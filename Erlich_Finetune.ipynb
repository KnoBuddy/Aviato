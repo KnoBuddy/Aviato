{
  "nbformat": 4,
  "nbformat_minor": 0,
  "metadata": {
    "colab": {
      "name": "Erlich Finetune.ipynb",
      "provenance": [],
      "machine_shape": "hm",
      "toc_visible": true,
      "authorship_tag": "ABX9TyNtGJNUnmF5upIqbWYY1Vh2",
      "include_colab_link": true
    },
    "kernelspec": {
      "name": "python3",
      "display_name": "Python 3"
    },
    "language_info": {
      "name": "python"
    },
    "accelerator": "GPU"
  },
  "cells": [
    {
      "cell_type": "markdown",
      "metadata": {
        "id": "view-in-github",
        "colab_type": "text"
      },
      "source": [
        "<a href=\"https://colab.research.google.com/github/KnoBuddy/Aviato/blob/main/Erlich_Finetune.ipynb\" target=\"_parent\"><img src=\"https://colab.research.google.com/assets/colab-badge.svg\" alt=\"Open In Colab\"/></a>"
      ]
    },
    {
      "cell_type": "markdown",
      "source": [
        "### KnoBuddy's Colab Notebook Implementation of Erlich a text2image generator for logos"
      ],
      "metadata": {
        "id": "52dSCEODIu3G"
      }
    },
    {
      "cell_type": "markdown",
      "source": [
        "# Connect to Google Drive and Create Repo"
      ],
      "metadata": {
        "id": "L_fA97lkbc_2"
      }
    },
    {
      "cell_type": "code",
      "source": [
        "ls"
      ],
      "metadata": {
        "colab": {
          "base_uri": "https://localhost:8080/"
        },
        "id": "wCsL_68xbrrf",
        "outputId": "230ffdf3-59d1-4948-ea54-ac1d87141945"
      },
      "execution_count": 31,
      "outputs": [
        {
          "output_type": "stream",
          "name": "stdout",
          "text": [
            "'=1.0.8'                  \u001b[0m\u001b[01;34mencoders\u001b[0m/                    predict_util.py\n",
            "'=2.0.0'                  \u001b[01;34merlich\u001b[0m/                      README.md\n",
            " \u001b[01;34maesthetic_clip_embeds\u001b[0m/   erlich.pt                    requirements.txt\n",
            " \u001b[01;34maesthetic-predictor\u001b[0m/     \u001b[01;34mguided_diffusion\u001b[0m/            sample.py\n",
            " autoedit_api.py          \u001b[01;34mguided_diffusion.egg-info\u001b[0m/   \u001b[01;34mscripts\u001b[0m/\n",
            " autoedit.py              kl-f8.pt                     setup.py\n",
            " bert.pt                  \u001b[01;34mlatent-diffusion\u001b[0m/            \u001b[01;34msrc\u001b[0m/\n",
            " \u001b[01;34mclip_custom\u001b[0m/             \u001b[01;34mldm\u001b[0m/                         \u001b[01;34mtaming-transformers\u001b[0m/\n",
            " cog_predict.py           LICENSE                      \u001b[01;34mwandb\u001b[0m/\n",
            " cog.yaml                 \u001b[01;34mnew_folder\u001b[0m/\n"
          ]
        }
      ]
    },
    {
      "cell_type": "markdown",
      "source": [
        "Connect your google drive and create a folder name test_nb"
      ],
      "metadata": {
        "id": "BjMQ2E4IJAjB"
      }
    },
    {
      "cell_type": "code",
      "execution_count": 1,
      "metadata": {
        "colab": {
          "base_uri": "https://localhost:8080/"
        },
        "id": "JgINRyYhHa5t",
        "outputId": "40b244be-617a-41b2-fe1f-6ac4f4e0e1be"
      },
      "outputs": [
        {
          "output_type": "stream",
          "name": "stdout",
          "text": [
            "Drive already mounted at /content/drive; to attempt to forcibly remount, call drive.mount(\"/content/drive\", force_remount=True).\n"
          ]
        }
      ],
      "source": [
        "from google.colab import drive\n",
        "drive.mount('/content/drive')"
      ]
    },
    {
      "cell_type": "code",
      "source": [
        "! mkdir test_2"
      ],
      "metadata": {
        "id": "W7LtRrnPb2X2"
      },
      "execution_count": null,
      "outputs": []
    },
    {
      "cell_type": "code",
      "execution_count": 2,
      "metadata": {
        "id": "23TOba33L4qf",
        "colab": {
          "base_uri": "https://localhost:8080/"
        },
        "outputId": "7f3df51a-b489-4602-99fb-65b0a0c8b6d3"
      },
      "outputs": [
        {
          "output_type": "stream",
          "name": "stdout",
          "text": [
            "Fri Jun 10 20:38:28 2022       \n",
            "+-----------------------------------------------------------------------------+\n",
            "| NVIDIA-SMI 460.32.03    Driver Version: 460.32.03    CUDA Version: 11.2     |\n",
            "|-------------------------------+----------------------+----------------------+\n",
            "| GPU  Name        Persistence-M| Bus-Id        Disp.A | Volatile Uncorr. ECC |\n",
            "| Fan  Temp  Perf  Pwr:Usage/Cap|         Memory-Usage | GPU-Util  Compute M. |\n",
            "|                               |                      |               MIG M. |\n",
            "|===============================+======================+======================|\n",
            "|   0  Tesla P100-PCIE...  Off  | 00000000:00:04.0 Off |                    0 |\n",
            "| N/A   36C    P0    26W / 250W |      0MiB / 16280MiB |      0%      Default |\n",
            "|                               |                      |                  N/A |\n",
            "+-------------------------------+----------------------+----------------------+\n",
            "                                                                               \n",
            "+-----------------------------------------------------------------------------+\n",
            "| Processes:                                                                  |\n",
            "|  GPU   GI   CI        PID   Type   Process name                  GPU Memory |\n",
            "|        ID   ID                                                   Usage      |\n",
            "|=============================================================================|\n",
            "|  No running processes found                                                 |\n",
            "+-----------------------------------------------------------------------------+\n"
          ]
        }
      ],
      "source": [
        "gpu_info = !nvidia-smi\n",
        "gpu_info = '\\n'.join(gpu_info)\n",
        "if gpu_info.find('failed') >= 0:\n",
        "  print('Not connected to a GPU')\n",
        "else:\n",
        "  print(gpu_info)"
      ]
    },
    {
      "cell_type": "code",
      "execution_count": 3,
      "metadata": {
        "id": "V1G82GuO-tez",
        "colab": {
          "base_uri": "https://localhost:8080/"
        },
        "outputId": "068a8287-e866-4a06-bd5e-7b0142db0cdf"
      },
      "outputs": [
        {
          "output_type": "stream",
          "name": "stdout",
          "text": [
            "Your runtime has 27.3 gigabytes of available RAM\n",
            "\n",
            "You are using a high-RAM runtime!\n"
          ]
        }
      ],
      "source": [
        "from psutil import virtual_memory\n",
        "ram_gb = virtual_memory().total / 1e9\n",
        "print('Your runtime has {:.1f} gigabytes of available RAM\\n'.format(ram_gb))\n",
        "\n",
        "if ram_gb < 20:\n",
        "  print('Not using a high-RAM runtime')\n",
        "else:\n",
        "  print('You are using a high-RAM runtime!')"
      ]
    },
    {
      "cell_type": "markdown",
      "source": [
        "# VSCode Integration (Optional WIP)"
      ],
      "metadata": {
        "id": "jqR1XFIYcAC2"
      }
    },
    {
      "cell_type": "code",
      "source": [
        "! pip install colabcode"
      ],
      "metadata": {
        "id": "AnwiPSchF_Ou"
      },
      "execution_count": null,
      "outputs": []
    },
    {
      "cell_type": "code",
      "source": [
        "from colabcode import ColabCode"
      ],
      "metadata": {
        "id": "Cwwy6KsdGFRn"
      },
      "execution_count": 2,
      "outputs": []
    },
    {
      "cell_type": "code",
      "source": [
        "ColabCode(port=10000,mount_drive=True)"
      ],
      "metadata": {
        "id": "8vMUMpMtGSJb"
      },
      "execution_count": null,
      "outputs": []
    },
    {
      "cell_type": "markdown",
      "source": [
        "# Clone Repo, Install Dependencies, and Init Settings"
      ],
      "metadata": {
        "id": "fY6e9FkBcImw"
      }
    },
    {
      "cell_type": "code",
      "source": [
        "%cd drive/MyDrive/test_2/"
      ],
      "metadata": {
        "colab": {
          "base_uri": "https://localhost:8080/"
        },
        "id": "qccJ9BH8HksO",
        "outputId": "92b93125-6909-4b51-bc9c-e6550f0ed77e"
      },
      "execution_count": 5,
      "outputs": [
        {
          "output_type": "stream",
          "name": "stdout",
          "text": [
            "/content/drive/MyDrive/test_2\n"
          ]
        }
      ]
    },
    {
      "cell_type": "code",
      "source": [
        "! git lfs install"
      ],
      "metadata": {
        "colab": {
          "base_uri": "https://localhost:8080/"
        },
        "id": "Jq5zSVf-JUcG",
        "outputId": "1ff1d97c-5745-487b-de59-4e8179868576"
      },
      "execution_count": 14,
      "outputs": [
        {
          "output_type": "stream",
          "name": "stdout",
          "text": [
            "Updated git hooks.\n",
            "Git LFS initialized.\n"
          ]
        }
      ]
    },
    {
      "cell_type": "code",
      "source": [
        "! ls"
      ],
      "metadata": {
        "colab": {
          "base_uri": "https://localhost:8080/"
        },
        "id": "-NhjNFMsHyUY",
        "outputId": "d6e97454-80ab-4cd8-b823-a15a2c655dce"
      },
      "execution_count": 6,
      "outputs": [
        {
          "output_type": "stream",
          "name": "stdout",
          "text": [
            "ldm-finetune\n"
          ]
        }
      ]
    },
    {
      "cell_type": "code",
      "source": [
        "! git clone https://github.com/LAION-AI/ldm-finetune"
      ],
      "metadata": {
        "colab": {
          "base_uri": "https://localhost:8080/"
        },
        "id": "Ko8txMoIIS_z",
        "outputId": "f435edef-0990-4af0-c1ea-566326fb7d8f"
      },
      "execution_count": 7,
      "outputs": [
        {
          "output_type": "stream",
          "name": "stdout",
          "text": [
            "Cloning into 'ldm-finetune'...\n",
            "remote: Enumerating objects: 292, done.\u001b[K\n",
            "remote: Counting objects: 100% (292/292), done.\u001b[K\n",
            "remote: Compressing objects: 100% (177/177), done.\u001b[K\n",
            "remote: Total 292 (delta 134), reused 265 (delta 107), pack-reused 0\u001b[K\n",
            "Receiving objects: 100% (292/292), 1.95 MiB | 10.54 MiB/s, done.\n",
            "Resolving deltas: 100% (134/134), done.\n"
          ]
        }
      ]
    },
    {
      "cell_type": "markdown",
      "source": [
        "Use this to update"
      ],
      "metadata": {
        "id": "1YZfzabYJJ8x"
      }
    },
    {
      "cell_type": "code",
      "source": [
        "! git pull"
      ],
      "metadata": {
        "colab": {
          "base_uri": "https://localhost:8080/"
        },
        "id": "FhAAQgEPIqxb",
        "outputId": "e9afac34-6e03-47f0-8f71-f5e64805d423"
      },
      "execution_count": 8,
      "outputs": [
        {
          "output_type": "stream",
          "name": "stdout",
          "text": [
            "Already up to date.\n"
          ]
        }
      ]
    },
    {
      "cell_type": "code",
      "source": [
        "%cd ldm-finetune/"
      ],
      "metadata": {
        "colab": {
          "base_uri": "https://localhost:8080/"
        },
        "id": "wWt_fyxBIkuC",
        "outputId": "4c9bc310-9729-442b-8440-586889fa82b2"
      },
      "execution_count": 7,
      "outputs": [
        {
          "output_type": "stream",
          "name": "stdout",
          "text": [
            "/content/drive/MyDrive/test_2/ldm-finetune\n"
          ]
        }
      ]
    },
    {
      "cell_type": "code",
      "source": [
        "! wandb login 02a7247d36c07136ba7b90e08d6201ee8e67bc1b"
      ],
      "metadata": {
        "colab": {
          "base_uri": "https://localhost:8080/"
        },
        "id": "xONnjlOLTALD",
        "outputId": "8038e8e8-158d-4281-e713-a4b5ae1dd6c0"
      },
      "execution_count": 13,
      "outputs": [
        {
          "output_type": "stream",
          "name": "stdout",
          "text": [
            "\u001b[34m\u001b[1mwandb\u001b[0m: Appending key for api.wandb.ai to your netrc file: /root/.netrc\n"
          ]
        }
      ]
    },
    {
      "cell_type": "code",
      "source": [
        "! git pull"
      ],
      "metadata": {
        "id": "ul_13Ri7Qivh"
      },
      "execution_count": null,
      "outputs": []
    },
    {
      "cell_type": "code",
      "source": [
        "! pip install git+https://github.com/PyTorchLightning/pytorch-lightning"
      ],
      "metadata": {
        "colab": {
          "base_uri": "https://localhost:8080/"
        },
        "id": "hyh2wav4RoZP",
        "outputId": "cb0ab943-5b14-4e5c-c205-f446253ef9c1"
      },
      "execution_count": 14,
      "outputs": [
        {
          "output_type": "stream",
          "name": "stdout",
          "text": [
            "Looking in indexes: https://pypi.org/simple, https://us-python.pkg.dev/colab-wheels/public/simple/\n",
            "Collecting git+https://github.com/PyTorchLightning/pytorch-lightning\n",
            "  Cloning https://github.com/PyTorchLightning/pytorch-lightning to /tmp/pip-req-build-1fy_eoyf\n",
            "  Running command git clone -q https://github.com/PyTorchLightning/pytorch-lightning /tmp/pip-req-build-1fy_eoyf\n",
            "\u001b[31mERROR: Operation cancelled by user\u001b[0m\n"
          ]
        }
      ]
    },
    {
      "cell_type": "code",
      "source": [
        "! pip install einops"
      ],
      "metadata": {
        "colab": {
          "base_uri": "https://localhost:8080/"
        },
        "id": "rKXJc6wIPswi",
        "outputId": "4905d6b8-5784-426d-b1b0-d2d43742a3cb"
      },
      "execution_count": 12,
      "outputs": [
        {
          "output_type": "stream",
          "name": "stdout",
          "text": [
            "Looking in indexes: https://pypi.org/simple, https://us-python.pkg.dev/colab-wheels/public/simple/\n",
            "Requirement already satisfied: einops in /usr/local/lib/python3.7/dist-packages (0.4.1)\n"
          ]
        }
      ]
    },
    {
      "cell_type": "code",
      "source": [
        "! git clone https://huggingface.co/laion/erlich"
      ],
      "metadata": {
        "colab": {
          "base_uri": "https://localhost:8080/"
        },
        "id": "f8l2WnCDJWwc",
        "outputId": "cecd7fc0-4327-4342-94f0-535bb97261d0"
      },
      "execution_count": 23,
      "outputs": [
        {
          "output_type": "stream",
          "name": "stdout",
          "text": [
            "Cloning into 'erlich'...\n",
            "remote: Enumerating objects: 25, done.\u001b[K\n",
            "remote: Counting objects: 100% (25/25), done.\u001b[K\n",
            "remote: Compressing objects: 100% (23/23), done.\u001b[K\n",
            "remote: Total 25 (delta 4), reused 0 (delta 0), pack-reused 0\u001b[K\n",
            "Unpacking objects: 100% (25/25), done.\n",
            "\n",
            "Exiting because of \"interrupt\" signal.\n",
            "warning: Clone succeeded, but checkout failed.\n",
            "You can inspect what was checked out with 'git status'\n",
            "and retry the checkout with 'git checkout -f HEAD'\n",
            "\n",
            "^C\n"
          ]
        }
      ]
    },
    {
      "cell_type": "code",
      "source": [
        "! git lfs help smudge"
      ],
      "metadata": {
        "id": "1xV78ICmdm1Y",
        "outputId": "b3d6c75f-63a4-4381-e0f0-1eff8bf90f1c",
        "colab": {
          "base_uri": "https://localhost:8080/"
        }
      },
      "execution_count": 9,
      "outputs": [
        {
          "output_type": "stream",
          "name": "stdout",
          "text": [
            "Sorry, no usage text found for \"git-lfs\"\n"
          ]
        }
      ]
    },
    {
      "cell_type": "code",
      "source": [
        "! git clone https://github.com/LAION-AI/aesthetic-predictor"
      ],
      "metadata": {
        "colab": {
          "base_uri": "https://localhost:8080/"
        },
        "id": "5zT7vEjDT74-",
        "outputId": "be089a5d-9b3e-4e40-d1e4-f68a33c51057"
      },
      "execution_count": 27,
      "outputs": [
        {
          "output_type": "stream",
          "name": "stdout",
          "text": [
            "Cloning into 'aesthetic-predictor'...\n",
            "remote: Enumerating objects: 67, done.\u001b[K\n",
            "remote: Counting objects: 100% (67/67), done.\u001b[K\n",
            "remote: Compressing objects: 100% (64/64), done.\u001b[K\n",
            "remote: Total 67 (delta 21), reused 28 (delta 3), pack-reused 0\u001b[K\n",
            "Unpacking objects: 100% (67/67), done.\n"
          ]
        }
      ]
    },
    {
      "cell_type": "code",
      "source": [
        "! git clone https://github.com/CompVis/latent-diffusion.git\n",
        "! git clone https://github.com/CompVis/taming-transformers\n",
        "! pip install -e ./taming-transformers"
      ],
      "metadata": {
        "id": "p1XOU9I9JZ-C",
        "colab": {
          "base_uri": "https://localhost:8080/"
        },
        "outputId": "4316e2ac-6405-463e-c1b0-20f543190520"
      },
      "execution_count": 10,
      "outputs": [
        {
          "output_type": "stream",
          "name": "stdout",
          "text": [
            "Cloning into 'latent-diffusion'...\n",
            "remote: Enumerating objects: 282, done.\u001b[K\n",
            "remote: Total 282 (delta 0), reused 0 (delta 0), pack-reused 282\u001b[K\n",
            "Receiving objects: 100% (282/282), 28.39 MiB | 13.32 MiB/s, done.\n",
            "Resolving deltas: 100% (105/105), done.\n",
            "Cloning into 'taming-transformers'...\n",
            "remote: Enumerating objects: 1335, done.\u001b[K\n",
            "remote: Total 1335 (delta 0), reused 0 (delta 0), pack-reused 1335\u001b[K\n",
            "Receiving objects: 100% (1335/1335), 409.77 MiB | 11.81 MiB/s, done.\n",
            "Resolving deltas: 100% (280/280), done.\n",
            "Checking out files: 100% (719/719), done.\n",
            "Looking in indexes: https://pypi.org/simple, https://us-python.pkg.dev/colab-wheels/public/simple/\n",
            "Obtaining file:///content/drive/MyDrive/test_2/ldm-finetune/taming-transformers\n",
            "Requirement already satisfied: torch in /usr/local/lib/python3.7/dist-packages (from taming-transformers==0.0.1) (1.11.0+cu113)\n",
            "Requirement already satisfied: numpy in /usr/local/lib/python3.7/dist-packages (from taming-transformers==0.0.1) (1.21.6)\n",
            "Requirement already satisfied: tqdm in /usr/local/lib/python3.7/dist-packages (from taming-transformers==0.0.1) (4.64.0)\n",
            "Requirement already satisfied: typing-extensions in /usr/local/lib/python3.7/dist-packages (from torch->taming-transformers==0.0.1) (4.2.0)\n",
            "Installing collected packages: taming-transformers\n",
            "  Running setup.py develop for taming-transformers\n",
            "Successfully installed taming-transformers-0.0.1\n"
          ]
        }
      ]
    },
    {
      "cell_type": "code",
      "source": [
        "! pip install omegaconf>=2.0.0 pytorch-lightning>=1.0.8 torch-fidelity einops"
      ],
      "metadata": {
        "id": "Q6R4i8RrWOUS"
      },
      "execution_count": 15,
      "outputs": []
    },
    {
      "cell_type": "code",
      "source": [
        "! pip install -e ."
      ],
      "metadata": {
        "id": "7aGekT5jJthm",
        "colab": {
          "base_uri": "https://localhost:8080/"
        },
        "outputId": "c2b9a40a-e802-49c0-c7d2-410f73729f31"
      },
      "execution_count": 9,
      "outputs": [
        {
          "output_type": "stream",
          "name": "stdout",
          "text": [
            "Looking in indexes: https://pypi.org/simple, https://us-python.pkg.dev/colab-wheels/public/simple/\n",
            "Obtaining file:///content/drive/MyDrive/test_2/ldm-finetune\n",
            "Requirement already satisfied: blobfile>=1.0.5 in /usr/local/lib/python3.7/dist-packages (from guided-diffusion==0.0.0) (1.3.1)\n",
            "Requirement already satisfied: torch in /usr/local/lib/python3.7/dist-packages (from guided-diffusion==0.0.0) (1.11.0+cu113)\n",
            "Requirement already satisfied: torchvision in /usr/local/lib/python3.7/dist-packages (from guided-diffusion==0.0.0) (0.12.0+cu113)\n",
            "Requirement already satisfied: tqdm in /usr/local/lib/python3.7/dist-packages (from guided-diffusion==0.0.0) (4.64.0)\n",
            "Requirement already satisfied: Cython in /usr/local/lib/python3.7/dist-packages (from guided-diffusion==0.0.0) (0.29.30)\n",
            "Requirement already satisfied: xmltodict~=0.12.0 in /usr/local/lib/python3.7/dist-packages (from blobfile>=1.0.5->guided-diffusion==0.0.0) (0.12.0)\n",
            "Requirement already satisfied: filelock~=3.0 in /usr/local/lib/python3.7/dist-packages (from blobfile>=1.0.5->guided-diffusion==0.0.0) (3.7.0)\n",
            "Requirement already satisfied: pycryptodomex~=3.8 in /usr/local/lib/python3.7/dist-packages (from blobfile>=1.0.5->guided-diffusion==0.0.0) (3.14.1)\n",
            "Requirement already satisfied: urllib3~=1.25 in /usr/local/lib/python3.7/dist-packages (from blobfile>=1.0.5->guided-diffusion==0.0.0) (1.25.11)\n",
            "Requirement already satisfied: typing-extensions in /usr/local/lib/python3.7/dist-packages (from torch->guided-diffusion==0.0.0) (4.2.0)\n",
            "Requirement already satisfied: pillow!=8.3.*,>=5.3.0 in /usr/local/lib/python3.7/dist-packages (from torchvision->guided-diffusion==0.0.0) (9.1.1)\n",
            "Requirement already satisfied: requests in /usr/local/lib/python3.7/dist-packages (from torchvision->guided-diffusion==0.0.0) (2.23.0)\n",
            "Requirement already satisfied: numpy in /usr/local/lib/python3.7/dist-packages (from torchvision->guided-diffusion==0.0.0) (1.21.6)\n",
            "Requirement already satisfied: certifi>=2017.4.17 in /usr/local/lib/python3.7/dist-packages (from requests->torchvision->guided-diffusion==0.0.0) (2022.5.18.1)\n",
            "Requirement already satisfied: idna<3,>=2.5 in /usr/local/lib/python3.7/dist-packages (from requests->torchvision->guided-diffusion==0.0.0) (2.10)\n",
            "Requirement already satisfied: chardet<4,>=3.0.2 in /usr/local/lib/python3.7/dist-packages (from requests->torchvision->guided-diffusion==0.0.0) (3.0.4)\n",
            "Installing collected packages: guided-diffusion\n",
            "  Attempting uninstall: guided-diffusion\n",
            "    Found existing installation: guided-diffusion 0.0.0\n",
            "    Can't uninstall 'guided-diffusion'. No files were found to uninstall.\n",
            "  Running setup.py develop for guided-diffusion\n",
            "Successfully installed guided-diffusion-0.0.0\n"
          ]
        }
      ]
    },
    {
      "cell_type": "code",
      "source": [
        "! pip install -r requirements.txt\n",
        "! pip install ftfy"
      ],
      "metadata": {
        "id": "bMiQJNjYJNB-",
        "colab": {
          "base_uri": "https://localhost:8080/"
        },
        "outputId": "1883f167-2ee8-43dc-f58a-681d285bb01c"
      },
      "execution_count": 16,
      "outputs": [
        {
          "output_type": "stream",
          "name": "stdout",
          "text": [
            "Looking in indexes: https://pypi.org/simple, https://us-python.pkg.dev/colab-wheels/public/simple/\n",
            "Obtaining latent-diffusion from git+https://github.com/CompVis/latent-diffusion.git@main#egg=latent-diffusion (from -r requirements.txt (line 23))\n",
            "  Updating ./src/latent-diffusion clone (to revision main)\n",
            "  Running command git fetch -q --tags\n",
            "  Running command git reset --hard -q 5a6571e384f9a9b492bbfaca594a2b00cad55279\n",
            "Requirement already satisfied: axial-positional-embedding==0.2.1 in /usr/local/lib/python3.7/dist-packages (from -r requirements.txt (line 1)) (0.2.1)\n",
            "Requirement already satisfied: albumentations>=0.4.3 in /usr/local/lib/python3.7/dist-packages (from -r requirements.txt (line 2)) (1.1.0)\n",
            "Requirement already satisfied: blobfile>=1.2.9 in /usr/local/lib/python3.7/dist-packages (from -r requirements.txt (line 3)) (1.3.1)\n",
            "Requirement already satisfied: braceexpand>=0.1.7 in /usr/local/lib/python3.7/dist-packages (from -r requirements.txt (line 4)) (0.1.7)\n",
            "Requirement already satisfied: Cython==0.29.30 in /usr/local/lib/python3.7/dist-packages (from -r requirements.txt (line 5)) (0.29.30)\n",
            "Requirement already satisfied: DALL-E==0.1 in /usr/local/lib/python3.7/dist-packages (from -r requirements.txt (line 6)) (0.1)\n",
            "Requirement already satisfied: dalle-pytorch>=1.5.2 in /usr/local/lib/python3.7/dist-packages (from -r requirements.txt (line 7)) (1.6.4)\n",
            "Requirement already satisfied: einops>=0.4.1 in /usr/local/lib/python3.7/dist-packages (from -r requirements.txt (line 8)) (0.4.1)\n",
            "Requirement already satisfied: huggingface-hub>=0.5.1 in /usr/local/lib/python3.7/dist-packages (from -r requirements.txt (line 9)) (0.7.0)\n",
            "Requirement already satisfied: imageio>=2.9.0 in /usr/local/lib/python3.7/dist-packages (from -r requirements.txt (line 10)) (2.19.3)\n",
            "Requirement already satisfied: imageio-ffmpeg>=0.4.2 in /usr/local/lib/python3.7/dist-packages (from -r requirements.txt (line 11)) (0.4.7)\n",
            "Requirement already satisfied: omegaconf>=2.1.2 in /usr/local/lib/python3.7/dist-packages (from -r requirements.txt (line 12)) (2.2.2)\n",
            "Requirement already satisfied: pytorch-lightning>=1.6 in /usr/local/lib/python3.7/dist-packages (from -r requirements.txt (line 13)) (1.6.4)\n",
            "Requirement already satisfied: PyYAML>=6.0 in /usr/local/lib/python3.7/dist-packages (from -r requirements.txt (line 14)) (6.0)\n",
            "Requirement already satisfied: regex>=2022.4.24 in /usr/local/lib/python3.7/dist-packages (from -r requirements.txt (line 15)) (2022.6.2)\n",
            "Requirement already satisfied: rotary-embedding-torch>=0.1.5 in /usr/local/lib/python3.7/dist-packages (from -r requirements.txt (line 16)) (0.1.5)\n",
            "Requirement already satisfied: tokenizers>=0.12.1 in /usr/local/lib/python3.7/dist-packages (from -r requirements.txt (line 17)) (0.12.1)\n",
            "Requirement already satisfied: torchmetrics>=0.8.0 in /usr/local/lib/python3.7/dist-packages (from -r requirements.txt (line 18)) (0.9.1)\n",
            "Requirement already satisfied: tqdm>=4.64.0 in /usr/local/lib/python3.7/dist-packages (from -r requirements.txt (line 19)) (4.64.0)\n",
            "Requirement already satisfied: transformers>=4.18.0 in /usr/local/lib/python3.7/dist-packages (from -r requirements.txt (line 20)) (4.19.4)\n",
            "Requirement already satisfied: torch-fidelity>=0.3.0 in /usr/local/lib/python3.7/dist-packages (from -r requirements.txt (line 21)) (0.3.0)\n",
            "Requirement already satisfied: wandb==0.12.17 in /usr/local/lib/python3.7/dist-packages (from -r requirements.txt (line 22)) (0.12.17)\n",
            "Requirement already satisfied: torch in /usr/local/lib/python3.7/dist-packages (from latent-diffusion->-r requirements.txt (line 23)) (1.11.0+cu113)\n",
            "Requirement already satisfied: numpy in /usr/local/lib/python3.7/dist-packages (from latent-diffusion->-r requirements.txt (line 23)) (1.21.6)\n",
            "Requirement already satisfied: mypy in /usr/local/lib/python3.7/dist-packages (from DALL-E==0.1->-r requirements.txt (line 6)) (0.961)\n",
            "Requirement already satisfied: torchvision in /usr/local/lib/python3.7/dist-packages (from DALL-E==0.1->-r requirements.txt (line 6)) (0.12.0+cu113)\n",
            "Requirement already satisfied: Pillow in /usr/local/lib/python3.7/dist-packages (from DALL-E==0.1->-r requirements.txt (line 6)) (9.1.1)\n",
            "Requirement already satisfied: requests in /usr/local/lib/python3.7/dist-packages (from DALL-E==0.1->-r requirements.txt (line 6)) (2.23.0)\n",
            "Requirement already satisfied: pytest in /usr/local/lib/python3.7/dist-packages (from DALL-E==0.1->-r requirements.txt (line 6)) (3.6.4)\n",
            "Requirement already satisfied: python-dateutil>=2.6.1 in /usr/local/lib/python3.7/dist-packages (from wandb==0.12.17->-r requirements.txt (line 22)) (2.8.2)\n",
            "Requirement already satisfied: docker-pycreds>=0.4.0 in /usr/local/lib/python3.7/dist-packages (from wandb==0.12.17->-r requirements.txt (line 22)) (0.4.0)\n",
            "Requirement already satisfied: setproctitle in /usr/local/lib/python3.7/dist-packages (from wandb==0.12.17->-r requirements.txt (line 22)) (1.2.3)\n",
            "Requirement already satisfied: Click!=8.0.0,>=7.0 in /usr/local/lib/python3.7/dist-packages (from wandb==0.12.17->-r requirements.txt (line 22)) (7.1.2)\n",
            "Requirement already satisfied: psutil>=5.0.0 in /usr/local/lib/python3.7/dist-packages (from wandb==0.12.17->-r requirements.txt (line 22)) (5.4.8)\n",
            "Requirement already satisfied: six>=1.13.0 in /usr/local/lib/python3.7/dist-packages (from wandb==0.12.17->-r requirements.txt (line 22)) (1.15.0)\n",
            "Requirement already satisfied: pathtools in /usr/local/lib/python3.7/dist-packages (from wandb==0.12.17->-r requirements.txt (line 22)) (0.1.2)\n",
            "Requirement already satisfied: GitPython>=1.0.0 in /usr/local/lib/python3.7/dist-packages (from wandb==0.12.17->-r requirements.txt (line 22)) (3.1.27)\n",
            "Requirement already satisfied: shortuuid>=0.5.0 in /usr/local/lib/python3.7/dist-packages (from wandb==0.12.17->-r requirements.txt (line 22)) (1.0.9)\n",
            "Requirement already satisfied: protobuf<4.0dev,>=3.12.0 in /usr/local/lib/python3.7/dist-packages (from wandb==0.12.17->-r requirements.txt (line 22)) (3.17.3)\n",
            "Requirement already satisfied: promise<3,>=2.0 in /usr/local/lib/python3.7/dist-packages (from wandb==0.12.17->-r requirements.txt (line 22)) (2.3)\n",
            "Requirement already satisfied: sentry-sdk>=1.0.0 in /usr/local/lib/python3.7/dist-packages (from wandb==0.12.17->-r requirements.txt (line 22)) (1.5.12)\n",
            "Requirement already satisfied: setuptools in /usr/local/lib/python3.7/dist-packages (from wandb==0.12.17->-r requirements.txt (line 22)) (57.4.0)\n",
            "Requirement already satisfied: scikit-image>=0.16.1 in /usr/local/lib/python3.7/dist-packages (from albumentations>=0.4.3->-r requirements.txt (line 2)) (0.18.3)\n",
            "Requirement already satisfied: scipy in /usr/local/lib/python3.7/dist-packages (from albumentations>=0.4.3->-r requirements.txt (line 2)) (1.4.1)\n",
            "Requirement already satisfied: opencv-python-headless>=4.1.1 in /usr/local/lib/python3.7/dist-packages (from albumentations>=0.4.3->-r requirements.txt (line 2)) (4.6.0.66)\n",
            "Requirement already satisfied: qudida>=0.0.4 in /usr/local/lib/python3.7/dist-packages (from albumentations>=0.4.3->-r requirements.txt (line 2)) (0.0.4)\n",
            "Requirement already satisfied: filelock~=3.0 in /usr/local/lib/python3.7/dist-packages (from blobfile>=1.2.9->-r requirements.txt (line 3)) (3.7.0)\n",
            "Requirement already satisfied: pycryptodomex~=3.8 in /usr/local/lib/python3.7/dist-packages (from blobfile>=1.2.9->-r requirements.txt (line 3)) (3.14.1)\n",
            "Requirement already satisfied: urllib3~=1.25 in /usr/local/lib/python3.7/dist-packages (from blobfile>=1.2.9->-r requirements.txt (line 3)) (1.25.11)\n",
            "Requirement already satisfied: xmltodict~=0.12.0 in /usr/local/lib/python3.7/dist-packages (from blobfile>=1.2.9->-r requirements.txt (line 3)) (0.12.0)\n",
            "Requirement already satisfied: youtokentome in /usr/local/lib/python3.7/dist-packages (from dalle-pytorch>=1.5.2->-r requirements.txt (line 7)) (1.0.6)\n",
            "Requirement already satisfied: ftfy in /usr/local/lib/python3.7/dist-packages (from dalle-pytorch>=1.5.2->-r requirements.txt (line 7)) (6.1.1)\n",
            "Requirement already satisfied: WebDataset in /usr/local/lib/python3.7/dist-packages (from dalle-pytorch>=1.5.2->-r requirements.txt (line 7)) (0.2.5)\n",
            "Requirement already satisfied: taming-transformers-rom1504 in /usr/local/lib/python3.7/dist-packages (from dalle-pytorch>=1.5.2->-r requirements.txt (line 7)) (0.0.6)\n",
            "Requirement already satisfied: packaging in /usr/local/lib/python3.7/dist-packages (from dalle-pytorch>=1.5.2->-r requirements.txt (line 7)) (21.3)\n",
            "Requirement already satisfied: importlib-metadata in /usr/local/lib/python3.7/dist-packages (from huggingface-hub>=0.5.1->-r requirements.txt (line 9)) (4.11.4)\n",
            "Requirement already satisfied: typing-extensions>=3.7.4.3 in /usr/local/lib/python3.7/dist-packages (from huggingface-hub>=0.5.1->-r requirements.txt (line 9)) (4.2.0)\n",
            "Requirement already satisfied: antlr4-python3-runtime==4.9.* in /usr/local/lib/python3.7/dist-packages (from omegaconf>=2.1.2->-r requirements.txt (line 12)) (4.9.3)\n",
            "Requirement already satisfied: pyDeprecate>=0.3.1 in /usr/local/lib/python3.7/dist-packages (from pytorch-lightning>=1.6->-r requirements.txt (line 13)) (0.3.2)\n",
            "Requirement already satisfied: tensorboard>=2.2.0 in /usr/local/lib/python3.7/dist-packages (from pytorch-lightning>=1.6->-r requirements.txt (line 13)) (2.8.0)\n",
            "Requirement already satisfied: fsspec[http]!=2021.06.0,>=2021.05.0 in /usr/local/lib/python3.7/dist-packages (from pytorch-lightning>=1.6->-r requirements.txt (line 13)) (2022.5.0)\n",
            "Requirement already satisfied: aiohttp in /usr/local/lib/python3.7/dist-packages (from fsspec[http]!=2021.06.0,>=2021.05.0->pytorch-lightning>=1.6->-r requirements.txt (line 13)) (3.8.1)\n",
            "Requirement already satisfied: gitdb<5,>=4.0.1 in /usr/local/lib/python3.7/dist-packages (from GitPython>=1.0.0->wandb==0.12.17->-r requirements.txt (line 22)) (4.0.9)\n",
            "Requirement already satisfied: smmap<6,>=3.0.1 in /usr/local/lib/python3.7/dist-packages (from gitdb<5,>=4.0.1->GitPython>=1.0.0->wandb==0.12.17->-r requirements.txt (line 22)) (5.0.0)\n",
            "Requirement already satisfied: pyparsing!=3.0.5,>=2.0.2 in /usr/local/lib/python3.7/dist-packages (from packaging->dalle-pytorch>=1.5.2->-r requirements.txt (line 7)) (3.0.9)\n",
            "Requirement already satisfied: scikit-learn>=0.19.1 in /usr/local/lib/python3.7/dist-packages (from qudida>=0.0.4->albumentations>=0.4.3->-r requirements.txt (line 2)) (1.0.2)\n",
            "Requirement already satisfied: idna<3,>=2.5 in /usr/local/lib/python3.7/dist-packages (from requests->DALL-E==0.1->-r requirements.txt (line 6)) (2.10)\n",
            "Requirement already satisfied: certifi>=2017.4.17 in /usr/local/lib/python3.7/dist-packages (from requests->DALL-E==0.1->-r requirements.txt (line 6)) (2022.5.18.1)\n",
            "Requirement already satisfied: chardet<4,>=3.0.2 in /usr/local/lib/python3.7/dist-packages (from requests->DALL-E==0.1->-r requirements.txt (line 6)) (3.0.4)\n",
            "Requirement already satisfied: matplotlib!=3.0.0,>=2.0.0 in /usr/local/lib/python3.7/dist-packages (from scikit-image>=0.16.1->albumentations>=0.4.3->-r requirements.txt (line 2)) (3.2.2)\n",
            "Requirement already satisfied: tifffile>=2019.7.26 in /usr/local/lib/python3.7/dist-packages (from scikit-image>=0.16.1->albumentations>=0.4.3->-r requirements.txt (line 2)) (2021.11.2)\n",
            "Requirement already satisfied: PyWavelets>=1.1.1 in /usr/local/lib/python3.7/dist-packages (from scikit-image>=0.16.1->albumentations>=0.4.3->-r requirements.txt (line 2)) (1.3.0)\n",
            "Requirement already satisfied: networkx>=2.0 in /usr/local/lib/python3.7/dist-packages (from scikit-image>=0.16.1->albumentations>=0.4.3->-r requirements.txt (line 2)) (2.6.3)\n",
            "Requirement already satisfied: kiwisolver>=1.0.1 in /usr/local/lib/python3.7/dist-packages (from matplotlib!=3.0.0,>=2.0.0->scikit-image>=0.16.1->albumentations>=0.4.3->-r requirements.txt (line 2)) (1.4.2)\n",
            "Requirement already satisfied: cycler>=0.10 in /usr/local/lib/python3.7/dist-packages (from matplotlib!=3.0.0,>=2.0.0->scikit-image>=0.16.1->albumentations>=0.4.3->-r requirements.txt (line 2)) (0.11.0)\n",
            "Requirement already satisfied: joblib>=0.11 in /usr/local/lib/python3.7/dist-packages (from scikit-learn>=0.19.1->qudida>=0.0.4->albumentations>=0.4.3->-r requirements.txt (line 2)) (1.1.0)\n",
            "Requirement already satisfied: threadpoolctl>=2.0.0 in /usr/local/lib/python3.7/dist-packages (from scikit-learn>=0.19.1->qudida>=0.0.4->albumentations>=0.4.3->-r requirements.txt (line 2)) (3.1.0)\n",
            "Requirement already satisfied: google-auth<3,>=1.6.3 in /usr/local/lib/python3.7/dist-packages (from tensorboard>=2.2.0->pytorch-lightning>=1.6->-r requirements.txt (line 13)) (1.35.0)\n",
            "Requirement already satisfied: tensorboard-data-server<0.7.0,>=0.6.0 in /usr/local/lib/python3.7/dist-packages (from tensorboard>=2.2.0->pytorch-lightning>=1.6->-r requirements.txt (line 13)) (0.6.1)\n",
            "Requirement already satisfied: tensorboard-plugin-wit>=1.6.0 in /usr/local/lib/python3.7/dist-packages (from tensorboard>=2.2.0->pytorch-lightning>=1.6->-r requirements.txt (line 13)) (1.8.1)\n",
            "Requirement already satisfied: google-auth-oauthlib<0.5,>=0.4.1 in /usr/local/lib/python3.7/dist-packages (from tensorboard>=2.2.0->pytorch-lightning>=1.6->-r requirements.txt (line 13)) (0.4.6)\n",
            "Requirement already satisfied: markdown>=2.6.8 in /usr/local/lib/python3.7/dist-packages (from tensorboard>=2.2.0->pytorch-lightning>=1.6->-r requirements.txt (line 13)) (3.3.7)\n",
            "Requirement already satisfied: grpcio>=1.24.3 in /usr/local/lib/python3.7/dist-packages (from tensorboard>=2.2.0->pytorch-lightning>=1.6->-r requirements.txt (line 13)) (1.46.3)\n",
            "Requirement already satisfied: absl-py>=0.4 in /usr/local/lib/python3.7/dist-packages (from tensorboard>=2.2.0->pytorch-lightning>=1.6->-r requirements.txt (line 13)) (1.0.0)\n",
            "Requirement already satisfied: wheel>=0.26 in /usr/local/lib/python3.7/dist-packages (from tensorboard>=2.2.0->pytorch-lightning>=1.6->-r requirements.txt (line 13)) (0.37.1)\n",
            "Requirement already satisfied: werkzeug>=0.11.15 in /usr/local/lib/python3.7/dist-packages (from tensorboard>=2.2.0->pytorch-lightning>=1.6->-r requirements.txt (line 13)) (1.0.1)\n",
            "Requirement already satisfied: pyasn1-modules>=0.2.1 in /usr/local/lib/python3.7/dist-packages (from google-auth<3,>=1.6.3->tensorboard>=2.2.0->pytorch-lightning>=1.6->-r requirements.txt (line 13)) (0.2.8)\n",
            "Requirement already satisfied: rsa<5,>=3.1.4 in /usr/local/lib/python3.7/dist-packages (from google-auth<3,>=1.6.3->tensorboard>=2.2.0->pytorch-lightning>=1.6->-r requirements.txt (line 13)) (4.8)\n",
            "Requirement already satisfied: cachetools<5.0,>=2.0.0 in /usr/local/lib/python3.7/dist-packages (from google-auth<3,>=1.6.3->tensorboard>=2.2.0->pytorch-lightning>=1.6->-r requirements.txt (line 13)) (4.2.4)\n",
            "Requirement already satisfied: requests-oauthlib>=0.7.0 in /usr/local/lib/python3.7/dist-packages (from google-auth-oauthlib<0.5,>=0.4.1->tensorboard>=2.2.0->pytorch-lightning>=1.6->-r requirements.txt (line 13)) (1.3.1)\n",
            "Requirement already satisfied: zipp>=0.5 in /usr/local/lib/python3.7/dist-packages (from importlib-metadata->huggingface-hub>=0.5.1->-r requirements.txt (line 9)) (3.8.0)\n",
            "Requirement already satisfied: pyasn1<0.5.0,>=0.4.6 in /usr/local/lib/python3.7/dist-packages (from pyasn1-modules>=0.2.1->google-auth<3,>=1.6.3->tensorboard>=2.2.0->pytorch-lightning>=1.6->-r requirements.txt (line 13)) (0.4.8)\n",
            "Requirement already satisfied: oauthlib>=3.0.0 in /usr/local/lib/python3.7/dist-packages (from requests-oauthlib>=0.7.0->google-auth-oauthlib<0.5,>=0.4.1->tensorboard>=2.2.0->pytorch-lightning>=1.6->-r requirements.txt (line 13)) (3.2.0)\n",
            "Requirement already satisfied: aiosignal>=1.1.2 in /usr/local/lib/python3.7/dist-packages (from aiohttp->fsspec[http]!=2021.06.0,>=2021.05.0->pytorch-lightning>=1.6->-r requirements.txt (line 13)) (1.2.0)\n",
            "Requirement already satisfied: attrs>=17.3.0 in /usr/local/lib/python3.7/dist-packages (from aiohttp->fsspec[http]!=2021.06.0,>=2021.05.0->pytorch-lightning>=1.6->-r requirements.txt (line 13)) (21.4.0)\n",
            "Requirement already satisfied: yarl<2.0,>=1.0 in /usr/local/lib/python3.7/dist-packages (from aiohttp->fsspec[http]!=2021.06.0,>=2021.05.0->pytorch-lightning>=1.6->-r requirements.txt (line 13)) (1.7.2)\n",
            "Requirement already satisfied: charset-normalizer<3.0,>=2.0 in /usr/local/lib/python3.7/dist-packages (from aiohttp->fsspec[http]!=2021.06.0,>=2021.05.0->pytorch-lightning>=1.6->-r requirements.txt (line 13)) (2.0.12)\n",
            "Requirement already satisfied: asynctest==0.13.0 in /usr/local/lib/python3.7/dist-packages (from aiohttp->fsspec[http]!=2021.06.0,>=2021.05.0->pytorch-lightning>=1.6->-r requirements.txt (line 13)) (0.13.0)\n",
            "Requirement already satisfied: frozenlist>=1.1.1 in /usr/local/lib/python3.7/dist-packages (from aiohttp->fsspec[http]!=2021.06.0,>=2021.05.0->pytorch-lightning>=1.6->-r requirements.txt (line 13)) (1.3.0)\n",
            "Requirement already satisfied: async-timeout<5.0,>=4.0.0a3 in /usr/local/lib/python3.7/dist-packages (from aiohttp->fsspec[http]!=2021.06.0,>=2021.05.0->pytorch-lightning>=1.6->-r requirements.txt (line 13)) (4.0.2)\n",
            "Requirement already satisfied: multidict<7.0,>=4.5 in /usr/local/lib/python3.7/dist-packages (from aiohttp->fsspec[http]!=2021.06.0,>=2021.05.0->pytorch-lightning>=1.6->-r requirements.txt (line 13)) (6.0.2)\n",
            "Requirement already satisfied: wcwidth>=0.2.5 in /usr/local/lib/python3.7/dist-packages (from ftfy->dalle-pytorch>=1.5.2->-r requirements.txt (line 7)) (0.2.5)\n",
            "Requirement already satisfied: tomli>=1.1.0 in /usr/local/lib/python3.7/dist-packages (from mypy->DALL-E==0.1->-r requirements.txt (line 6)) (2.0.1)\n",
            "Requirement already satisfied: mypy-extensions>=0.4.3 in /usr/local/lib/python3.7/dist-packages (from mypy->DALL-E==0.1->-r requirements.txt (line 6)) (0.4.3)\n",
            "Requirement already satisfied: typed-ast<2,>=1.4.0 in /usr/local/lib/python3.7/dist-packages (from mypy->DALL-E==0.1->-r requirements.txt (line 6)) (1.5.4)\n",
            "Requirement already satisfied: pluggy<0.8,>=0.5 in /usr/local/lib/python3.7/dist-packages (from pytest->DALL-E==0.1->-r requirements.txt (line 6)) (0.7.1)\n",
            "Requirement already satisfied: py>=1.5.0 in /usr/local/lib/python3.7/dist-packages (from pytest->DALL-E==0.1->-r requirements.txt (line 6)) (1.11.0)\n",
            "Requirement already satisfied: more-itertools>=4.0.0 in /usr/local/lib/python3.7/dist-packages (from pytest->DALL-E==0.1->-r requirements.txt (line 6)) (8.13.0)\n",
            "Requirement already satisfied: atomicwrites>=1.0 in /usr/local/lib/python3.7/dist-packages (from pytest->DALL-E==0.1->-r requirements.txt (line 6)) (1.4.0)\n",
            "Installing collected packages: latent-diffusion\n",
            "  Attempting uninstall: latent-diffusion\n",
            "    Found existing installation: latent-diffusion 0.0.1\n",
            "    Can't uninstall 'latent-diffusion'. No files were found to uninstall.\n",
            "  Running setup.py develop for latent-diffusion\n",
            "Successfully installed latent-diffusion-0.0.1\n",
            "Looking in indexes: https://pypi.org/simple, https://us-python.pkg.dev/colab-wheels/public/simple/\n",
            "Requirement already satisfied: ftfy in /usr/local/lib/python3.7/dist-packages (6.1.1)\n",
            "Requirement already satisfied: wcwidth>=0.2.5 in /usr/local/lib/python3.7/dist-packages (from ftfy) (0.2.5)\n"
          ]
        }
      ]
    },
    {
      "cell_type": "code",
      "source": [
        "! pip install git+https://github.com/openai/CLIP.git"
      ],
      "metadata": {
        "colab": {
          "base_uri": "https://localhost:8080/"
        },
        "id": "8LUZpsbeRf_b",
        "outputId": "ca9a5516-8567-4723-d3fd-fb25dbcbd69e"
      },
      "execution_count": 17,
      "outputs": [
        {
          "output_type": "stream",
          "name": "stdout",
          "text": [
            "Looking in indexes: https://pypi.org/simple, https://us-python.pkg.dev/colab-wheels/public/simple/\n",
            "Collecting git+https://github.com/openai/CLIP.git\n",
            "  Cloning https://github.com/openai/CLIP.git to /tmp/pip-req-build-4go_dbcl\n",
            "  Running command git clone -q https://github.com/openai/CLIP.git /tmp/pip-req-build-4go_dbcl\n",
            "Requirement already satisfied: ftfy in /usr/local/lib/python3.7/dist-packages (from clip==1.0) (6.1.1)\n",
            "Requirement already satisfied: regex in /usr/local/lib/python3.7/dist-packages (from clip==1.0) (2022.6.2)\n",
            "Requirement already satisfied: tqdm in /usr/local/lib/python3.7/dist-packages (from clip==1.0) (4.64.0)\n",
            "Requirement already satisfied: torch in /usr/local/lib/python3.7/dist-packages (from clip==1.0) (1.11.0+cu113)\n",
            "Requirement already satisfied: torchvision in /usr/local/lib/python3.7/dist-packages (from clip==1.0) (0.12.0+cu113)\n",
            "Requirement already satisfied: wcwidth>=0.2.5 in /usr/local/lib/python3.7/dist-packages (from ftfy->clip==1.0) (0.2.5)\n",
            "Requirement already satisfied: typing-extensions in /usr/local/lib/python3.7/dist-packages (from torch->clip==1.0) (4.2.0)\n",
            "Requirement already satisfied: pillow!=8.3.*,>=5.3.0 in /usr/local/lib/python3.7/dist-packages (from torchvision->clip==1.0) (9.1.1)\n",
            "Requirement already satisfied: requests in /usr/local/lib/python3.7/dist-packages (from torchvision->clip==1.0) (2.23.0)\n",
            "Requirement already satisfied: numpy in /usr/local/lib/python3.7/dist-packages (from torchvision->clip==1.0) (1.21.6)\n",
            "Requirement already satisfied: urllib3!=1.25.0,!=1.25.1,<1.26,>=1.21.1 in /usr/local/lib/python3.7/dist-packages (from requests->torchvision->clip==1.0) (1.25.11)\n",
            "Requirement already satisfied: certifi>=2017.4.17 in /usr/local/lib/python3.7/dist-packages (from requests->torchvision->clip==1.0) (2022.5.18.1)\n",
            "Requirement already satisfied: chardet<4,>=3.0.2 in /usr/local/lib/python3.7/dist-packages (from requests->torchvision->clip==1.0) (3.0.4)\n",
            "Requirement already satisfied: idna<3,>=2.5 in /usr/local/lib/python3.7/dist-packages (from requests->torchvision->clip==1.0) (2.10)\n",
            "Building wheels for collected packages: clip\n",
            "  Building wheel for clip (setup.py) ... \u001b[?25l\u001b[?25hdone\n",
            "  Created wheel for clip: filename=clip-1.0-py3-none-any.whl size=1369387 sha256=5ecbfdf419c47926408bd3350a36f117fecde6e40bf31de90ba10fb5516d3085\n",
            "  Stored in directory: /tmp/pip-ephem-wheel-cache-dkvw89xv/wheels/fd/b9/c3/5b4470e35ed76e174bff77c92f91da82098d5e35fd5bc8cdac\n",
            "Successfully built clip\n",
            "Installing collected packages: clip\n",
            "Successfully installed clip-1.0\n"
          ]
        }
      ]
    },
    {
      "cell_type": "code",
      "source": [
        "! git lfs install"
      ],
      "metadata": {
        "colab": {
          "base_uri": "https://localhost:8080/"
        },
        "outputId": "6cc92b78-6104-4add-ef3f-2ebdaba7dfdc",
        "id": "poqb9yIuWZym"
      },
      "execution_count": 18,
      "outputs": [
        {
          "output_type": "stream",
          "name": "stdout",
          "text": [
            "Updated git hooks.\n",
            "Git LFS initialized.\n"
          ]
        }
      ]
    },
    {
      "cell_type": "markdown",
      "source": [
        "# Get the Models"
      ],
      "metadata": {
        "id": "5zszdnEpbV6u"
      }
    },
    {
      "cell_type": "code",
      "source": [
        "! git lfs install"
      ],
      "metadata": {
        "colab": {
          "base_uri": "https://localhost:8080/"
        },
        "outputId": "fec8cc77-8d76-451f-e78c-c0516107d54a",
        "id": "CCeMO2OncenJ"
      },
      "execution_count": null,
      "outputs": [
        {
          "output_type": "stream",
          "name": "stdout",
          "text": [
            "Updated git hooks.\n",
            "Git LFS initialized.\n"
          ]
        }
      ]
    },
    {
      "cell_type": "code",
      "source": [
        "! wget -O erlich.pt https://huggingface.co/laion/erlich/raw/main/model/ema_0.9999_120000.pt"
      ],
      "metadata": {
        "id": "9xWXgoG3H1bh"
      },
      "execution_count": null,
      "outputs": []
    },
    {
      "cell_type": "code",
      "source": [
        "# text encoder (required)\n",
        "! wget https://dall-3.com/models/glid-3-xl/bert.pt"
      ],
      "metadata": {
        "colab": {
          "base_uri": "https://localhost:8080/"
        },
        "id": "NiOoz87AVZ1G",
        "outputId": "536746f7-f24a-4462-d5ea-cc4f0e7507ca"
      },
      "execution_count": 19,
      "outputs": [
        {
          "output_type": "stream",
          "name": "stdout",
          "text": [
            "--2022-06-10 20:42:31--  https://dall-3.com/models/glid-3-xl/bert.pt\n",
            "Resolving dall-3.com (dall-3.com)... 172.67.204.67, 104.21.74.163, 2606:4700:3035::6815:4aa3, ...\n",
            "Connecting to dall-3.com (dall-3.com)|172.67.204.67|:443... connected.\n",
            "HTTP request sent, awaiting response... 200 OK\n",
            "Length: 2328155637 (2.2G) [application/vnd.snesdev-page-table]\n",
            "Saving to: ‘bert.pt’\n",
            "\n",
            "bert.pt             100%[===================>]   2.17G  18.0MB/s    in 2m 10s  \n",
            "\n",
            "2022-06-10 20:44:41 (17.0 MB/s) - ‘bert.pt’ saved [2328155637/2328155637]\n",
            "\n"
          ]
        }
      ]
    },
    {
      "cell_type": "code",
      "source": [
        "# ldm first stage (required)\n",
        "! wget https://dall-3.com/models/glid-3-xl/kl-f8.pt"
      ],
      "metadata": {
        "colab": {
          "base_uri": "https://localhost:8080/"
        },
        "id": "9zXR_W1KVZ_A",
        "outputId": "ec8c18fe-9726-488b-eb36-0d98bdbd45a4"
      },
      "execution_count": 20,
      "outputs": [
        {
          "output_type": "stream",
          "name": "stdout",
          "text": [
            "--2022-06-10 20:45:23--  https://dall-3.com/models/glid-3-xl/kl-f8.pt\n",
            "Resolving dall-3.com (dall-3.com)... 104.21.74.163, 172.67.204.67, 2606:4700:3035::6815:4aa3, ...\n",
            "Connecting to dall-3.com (dall-3.com)|104.21.74.163|:443... connected.\n",
            "HTTP request sent, awaiting response... 200 OK\n",
            "Length: 334732241 (319M) [application/vnd.snesdev-page-table]\n",
            "Saving to: ‘kl-f8.pt’\n",
            "\n",
            "kl-f8.pt            100%[===================>] 319.22M  25.4MB/s    in 15s     \n",
            "\n",
            "2022-06-10 20:45:39 (20.7 MB/s) - ‘kl-f8.pt’ saved [334732241/334732241]\n",
            "\n"
          ]
        }
      ]
    },
    {
      "cell_type": "code",
      "source": [
        "# there are several diffusion models to choose from:"
      ],
      "metadata": {
        "id": "eDRB_n9HKFph"
      },
      "execution_count": null,
      "outputs": []
    },
    {
      "cell_type": "code",
      "source": [
        "# original diffusion model from CompVis\n",
        "! wget https://dall-3.com/models/glid-3-xl/diffusion.pt"
      ],
      "metadata": {
        "id": "YJUvB7t-VaHE"
      },
      "execution_count": null,
      "outputs": []
    },
    {
      "cell_type": "code",
      "source": [
        "# new model fine tuned on a cleaner dataset (will not generate watermarks, split images or blurry images)\n",
        "! wget https://dall-3.com/models/glid-3-xl/finetune.pt"
      ],
      "metadata": {
        "id": "YpBpu9f0VaPZ"
      },
      "execution_count": null,
      "outputs": []
    },
    {
      "cell_type": "code",
      "source": [
        "# inpaint\n",
        "! wget https://dall-3.com/models/glid-3-xl/inpaint.pt"
      ],
      "metadata": {
        "id": "YiCsNJ9yVaan"
      },
      "execution_count": null,
      "outputs": []
    },
    {
      "cell_type": "code",
      "source": [
        "# erlich\n",
        "! wget -O erlich.pt https://huggingface.co/laion/erlich/raw/main/model/ema_0.9999_120000.pt"
      ],
      "metadata": {
        "colab": {
          "base_uri": "https://localhost:8080/"
        },
        "id": "GK9sejn0VlV1",
        "outputId": "d835f69c-767d-49af-87af-735af945f465"
      },
      "execution_count": 21,
      "outputs": [
        {
          "output_type": "stream",
          "name": "stdout",
          "text": [
            "--2022-06-10 20:45:53--  https://huggingface.co/laion/erlich/raw/main/model/ema_0.9999_120000.pt\n",
            "Resolving huggingface.co (huggingface.co)... 18.204.39.151, 34.198.184.113, 3.208.54.125, ...\n",
            "Connecting to huggingface.co (huggingface.co)|18.204.39.151|:443... connected.\n",
            "HTTP request sent, awaiting response... 200 OK\n",
            "Length: 135 [text/plain]\n",
            "Saving to: ‘erlich.pt’\n",
            "\n",
            "erlich.pt           100%[===================>]     135  --.-KB/s    in 0s      \n",
            "\n",
            "2022-06-10 20:45:54 (26.4 MB/s) - ‘erlich.pt’ saved [135/135]\n",
            "\n"
          ]
        }
      ]
    },
    {
      "cell_type": "code",
      "source": [
        "# ongo\n",
        "! wget https://huggingface.co/laion/ongo/resolve/main/ongo.pt"
      ],
      "metadata": {
        "id": "jV8WgRBrVnFV"
      },
      "execution_count": null,
      "outputs": []
    },
    {
      "cell_type": "markdown",
      "source": [
        "# Make Predictions"
      ],
      "metadata": {
        "id": "K2fl7--Rci_B"
      }
    },
    {
      "cell_type": "code",
      "source": [
        "! git lfs install"
      ],
      "metadata": {
        "colab": {
          "base_uri": "https://localhost:8080/"
        },
        "id": "1yRKAVi6IIBY",
        "outputId": "fec8cc77-8d76-451f-e78c-c0516107d54a"
      },
      "execution_count": 25,
      "outputs": [
        {
          "output_type": "stream",
          "name": "stdout",
          "text": [
            "Updated git hooks.\n",
            "Git LFS initialized.\n"
          ]
        }
      ]
    },
    {
      "cell_type": "code",
      "source": [
        "# generated images saved to ./output/\n",
        "# generated image embeddings saved to ./output_npy/ as npy files"
      ],
      "metadata": {
        "id": "mtDjZcxBMKOW"
      },
      "execution_count": null,
      "outputs": []
    },
    {
      "cell_type": "code",
      "source": [
        "# fast PLMS sampling\n",
        "! python sample.py --model_path finetune.pt --batch_size 1 --num_batches 1 --text \"a cyberpunk girl with a scifi neuralink device on her head\""
      ],
      "metadata": {
        "id": "k8eEudZIL8Dm"
      },
      "execution_count": null,
      "outputs": []
    },
    {
      "cell_type": "code",
      "source": [
        "# classifier free guidance + CLIP guidance (better adherence to prompt, much slower)\n",
        "! python sample.py --clip_guidance --model_path finetune.pt --batch_size 1 --num_batches 12 --text \"a cyberpunk girl with a scifi neuralink device on her head | trending on artstation\""
      ],
      "metadata": {
        "id": "CUgE_-TtMDZq"
      },
      "execution_count": null,
      "outputs": []
    },
    {
      "cell_type": "code",
      "source": [
        "# classifier free guidance + CLIP guidance (better adherence to prompt, much slower)\n",
        "! python sample.py --clip_guidance --model_path finetune.pt --batch_size 2 --num_batches 1 --text \"the logo for Kno Buddy. the style of the logo is minimalist cyberpunk vector art with psychedelic trippy vaporwave colrs. a diamond between two headphones is the icon. a diamond listening to headphones symbolizes the group\""
      ],
      "metadata": {
        "id": "obtgRoOtVoyA"
      },
      "execution_count": null,
      "outputs": []
    },
    {
      "cell_type": "code",
      "source": [
        "# sample with an init image\n",
        "!python sample.py --init_image picture.jpg --skip_timesteps 10 --model_path finetune.pt --batch_size 6 --num_batches 6 --text \"a cyberpunk girl with a scifi neuralink device on her head\""
      ],
      "metadata": {
        "id": "QHaOoLhYMGsm"
      },
      "execution_count": null,
      "outputs": []
    },
    {
      "cell_type": "code",
      "source": [
        "# classifier free guidance + CLIP guidance (better adherence to prompt, much slower)\n",
        "! python sample.py --clip_guidance --model_path finetune.pt --guidance_scale 30.0 --seed -1 --batch_size 1 --num_batches 1 --text \"the logo for Kno Buddy. the style of the logo is minimalist cyberpunk vector art with psychedelic trippy vaporwave colrs. a diamond between two headphones is the icon. a diamond listening to headphones symbolizes the group\" --dropout 0.1 --ema_rate 0.9999 --attention_resolutions 32,16,8 --class_cond False --diffusion_steps 1000 --image_size 32 --learn_sigma False --noise_schedule linear --num_channels 320 --num_heads 8 --num_res_blocks 2 --resblock_updown False --use_fp16 True --use_scale_shift_norm False"
      ],
      "metadata": {
        "id": "nS1xWaTLWUUJ"
      },
      "execution_count": null,
      "outputs": []
    },
    {
      "cell_type": "code",
      "source": [
        "# classifier free guidance + CLIP guidance (better adherence to prompt, much slower)\n",
        "! python sample.py --clip_guidance --model_path finetune.pt --guidance_scale 25.0 --seed -1 --batch_size 1 --num_batches 100 --text \"the logo for Kno Buddy. the style of the logo is minimalist cyberpunk vector art with psychedelic trippy vaporwave colrs. a diamond between two headphones is the icon. a diamond listening to headphones symbolizes the group. the name of the group KnoBuddy is spelled out across the bottom of the logo\""
      ],
      "metadata": {
        "id": "QiQQTT4-ZXuj"
      },
      "execution_count": null,
      "outputs": []
    },
    {
      "cell_type": "code",
      "source": [
        "# classifier free guidance + CLIP guidance (better adherence to prompt, much slower)\n",
        "! python sample.py --clip_guidance --model_path erlich/model/ema_0.9999_040000.pt --guidance_scale 25.0 --seed -1 --batch_size 1 --num_batches 100 --text \"the logo for Kno Buddy. the style of the logo is minimalist cyberpunk vector art with psychedelic trippy vaporwave colrs. a diamond between two headphones is the icon. a diamond listening to headphones symbolizes the group. the name of the group KnoBuddy is spelled out across the bottom of the logo\""
      ],
      "metadata": {
        "colab": {
          "base_uri": "https://localhost:8080/"
        },
        "id": "1AOJzPC_Hat5",
        "outputId": "004dacc0-c1a2-4ea5-b37b-06806a72abb9"
      },
      "execution_count": null,
      "outputs": [
        {
          "output_type": "stream",
          "name": "stdout",
          "text": [
            "Using device: cuda\n",
            "tcmalloc: large alloc 3491405824 bytes == 0x6d7c000 @  0x7fac7cf7ab6b 0x7fac7cf9a379 0x7fabc2aa750e 0x7fabc2a997c2 0x7fabfe1234c1 0x7fac780f0446 0x7fac77dc73f1 0x593784 0x594731 0x548cc1 0x51566f 0x549e0e 0x593fce 0x5118f8 0x549e0e 0x4bcb19 0x59582d 0x595b69 0x62026d 0x55de15 0x59af67 0x515655 0x549e0e 0x4bca8a 0x5134a6 0x549576 0x593fce 0x548ae9 0x5127f1 0x549576 0x604173\n",
            "\u001b[34m\u001b[1mwandb\u001b[0m: Currently logged in as: \u001b[33mknobuddy\u001b[0m. Use \u001b[1m`wandb login --relogin`\u001b[0m to force relogin\n",
            "\u001b[34m\u001b[1mwandb\u001b[0m: wandb version 0.12.18 is available!  To upgrade, please run:\n",
            "\u001b[34m\u001b[1mwandb\u001b[0m:  $ pip install wandb --upgrade\n",
            "\u001b[34m\u001b[1mwandb\u001b[0m: Tracking run with wandb version 0.12.17\n",
            "\u001b[34m\u001b[1mwandb\u001b[0m: Run data is saved locally in \u001b[35m\u001b[1m/content/drive/MyDrive/test_2/ldm-finetune/wandb/run-20220610_212611-1qj6lb8o\u001b[0m\n",
            "\u001b[34m\u001b[1mwandb\u001b[0m: Run \u001b[1m`wandb offline`\u001b[0m to turn off syncing.\n",
            "\u001b[34m\u001b[1mwandb\u001b[0m: Syncing run \u001b[33mcolorful-lake-61\u001b[0m\n",
            "\u001b[34m\u001b[1mwandb\u001b[0m: ⭐️ View project at \u001b[34m\u001b[4mhttps://wandb.ai/knobuddy/ongo-eval-table\u001b[0m\n",
            "\u001b[34m\u001b[1mwandb\u001b[0m: 🚀 View run at \u001b[34m\u001b[4mhttps://wandb.ai/knobuddy/ongo-eval-table/runs/1qj6lb8o\u001b[0m\n",
            "Starting run for\tthe logo for Kno Buddy. the style of the logo is minimalist cyberpunk vector art with psychedelic trippy vaporwave colrs. a diamond between two headphones is the icon. a diamond listening to headphones symbolizes the group. the name of the group KnoBuddy is spelled out across the bottom of the logo\n",
            "Using aesthetic embedding 9 with weight 0.99\n",
            "100% 150/150 [03:44<00:00,  1.50s/it]\n",
            "100% 150/150 [03:44<00:00,  1.49s/it]\n",
            "100% 150/150 [03:44<00:00,  1.50s/it]\n",
            " 91% 137/150 [03:26<00:18,  1.42s/it]"
          ]
        }
      ]
    }
  ]
}